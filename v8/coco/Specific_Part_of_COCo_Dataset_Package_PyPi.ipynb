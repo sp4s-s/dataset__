{
  "nbformat": 4,
  "nbformat_minor": 0,
  "metadata": {
    "colab": {
      "provenance": []
    },
    "kernelspec": {
      "name": "python3",
      "display_name": "Python 3"
    },
    "language_info": {
      "name": "python"
    }
  },
  "cells": [
    {
      "cell_type": "markdown",
      "metadata": {
        "id": "whHjzac1yibq"
      },
      "source": [
        "# Determining Specific Part of CoCo Dataset.\n",
        "Author :Falah.G.Salieh\n",
        "\n",
        "Email:falahgs07@gmail.com\n",
        "\n",
        "Date:21/04/2021\n",
        "\n",
        "Update:21/04/2021\n",
        "\n",
        "[COCO Dataset](https://https://cocodataset.org/#download)\n",
        "![COCO Dataset](https://iraqprogrammer.files.wordpress.com/2021/06/coco-dataset.jpg)"
      ]
    },
    {
      "cell_type": "markdown",
      "metadata": {
        "id": "QWUCU2Jrz4Gg"
      },
      "source": [
        "#Step1 : import cocodataset package"
      ]
    },
    {
      "cell_type": "code",
      "metadata": {
        "colab": {
          "base_uri": "https://localhost:8080/"
        },
        "id": "typNSgZoxmmr",
        "outputId": "13f2950b-d8d1-44e3-ff4e-d63f15753aca"
      },
      "source": [
        "!pip install CocoDataset==0.1.2"
      ],
      "execution_count": null,
      "outputs": [
        {
          "output_type": "stream",
          "text": [
            "Collecting CocoDataset==0.1.2\n",
            "  Downloading https://files.pythonhosted.org/packages/cb/4e/a235b8369782872579eb3426d3a41e986b8c6d545a810079630c8b54d4cb/CocoDataset-0.1.2-py3-none-any.whl\n",
            "Requirement already satisfied: pycocotools in /usr/local/lib/python3.7/dist-packages (from CocoDataset==0.1.2) (2.0.2)\n",
            "Requirement already satisfied: matplotlib>=2.1.0 in /usr/local/lib/python3.7/dist-packages (from pycocotools->CocoDataset==0.1.2) (3.2.2)\n",
            "Requirement already satisfied: setuptools>=18.0 in /usr/local/lib/python3.7/dist-packages (from pycocotools->CocoDataset==0.1.2) (57.0.0)\n",
            "Requirement already satisfied: cython>=0.27.3 in /usr/local/lib/python3.7/dist-packages (from pycocotools->CocoDataset==0.1.2) (0.29.23)\n",
            "Requirement already satisfied: cycler>=0.10 in /usr/local/lib/python3.7/dist-packages (from matplotlib>=2.1.0->pycocotools->CocoDataset==0.1.2) (0.10.0)\n",
            "Requirement already satisfied: numpy>=1.11 in /usr/local/lib/python3.7/dist-packages (from matplotlib>=2.1.0->pycocotools->CocoDataset==0.1.2) (1.19.5)\n",
            "Requirement already satisfied: kiwisolver>=1.0.1 in /usr/local/lib/python3.7/dist-packages (from matplotlib>=2.1.0->pycocotools->CocoDataset==0.1.2) (1.3.1)\n",
            "Requirement already satisfied: pyparsing!=2.0.4,!=2.1.2,!=2.1.6,>=2.0.1 in /usr/local/lib/python3.7/dist-packages (from matplotlib>=2.1.0->pycocotools->CocoDataset==0.1.2) (2.4.7)\n",
            "Requirement already satisfied: python-dateutil>=2.1 in /usr/local/lib/python3.7/dist-packages (from matplotlib>=2.1.0->pycocotools->CocoDataset==0.1.2) (2.8.1)\n",
            "Requirement already satisfied: six in /usr/local/lib/python3.7/dist-packages (from cycler>=0.10->matplotlib>=2.1.0->pycocotools->CocoDataset==0.1.2) (1.15.0)\n",
            "Installing collected packages: CocoDataset\n",
            "Successfully installed CocoDataset-0.1.2\n"
          ],
          "name": "stdout"
        }
      ]
    },
    {
      "cell_type": "markdown",
      "metadata": {
        "id": "evGum7zu11xC"
      },
      "source": [
        "#Step 2 download annotations for all coco dataset classes"
      ]
    },
    {
      "cell_type": "code",
      "metadata": {
        "colab": {
          "base_uri": "https://localhost:8080/"
        },
        "id": "9ILzwujhyDmX",
        "outputId": "826d49fa-142f-46fe-f481-e3af464a7f05"
      },
      "source": [
        "!wget http://images.cocodataset.org/annotations/annotations_trainval2014.zip\n",
        "!unzip /content/annotations_trainval2014.zip"
      ],
      "execution_count": null,
      "outputs": [
        {
          "output_type": "stream",
          "text": [
            "--2021-07-08 10:31:07--  http://images.cocodataset.org/annotations/annotations_trainval2014.zip\n",
            "Resolving images.cocodataset.org (images.cocodataset.org)... 52.217.64.196\n",
            "Connecting to images.cocodataset.org (images.cocodataset.org)|52.217.64.196|:80... connected.\n",
            "HTTP request sent, awaiting response... 200 OK\n",
            "Length: 252872794 (241M) [application/zip]\n",
            "Saving to: ‘annotations_trainval2014.zip’\n",
            "\n",
            "annotations_trainva 100%[===================>] 241.16M  16.3MB/s    in 17s     \n",
            "\n",
            "2021-07-08 10:31:24 (14.6 MB/s) - ‘annotations_trainval2014.zip’ saved [252872794/252872794]\n",
            "\n",
            "Archive:  /content/annotations_trainval2014.zip\n",
            "  inflating: annotations/instances_train2014.json  \n",
            "  inflating: annotations/instances_val2014.json  \n",
            "  inflating: annotations/person_keypoints_train2014.json  \n",
            "  inflating: annotations/person_keypoints_val2014.json  \n",
            "  inflating: annotations/captions_train2014.json  \n",
            "  inflating: annotations/captions_val2014.json  \n"
          ],
          "name": "stdout"
        }
      ]
    },
    {
      "cell_type": "markdown",
      "metadata": {
        "id": "kBeRG1wRzT2N"
      },
      "source": [
        "#Step 3 :Download specified class name from coco dataset"
      ]
    },
    {
      "cell_type": "markdown",
      "metadata": {
        "id": "4jHsU3skBwFV"
      },
      "source": [
        "##Example 1:Person"
      ]
    },
    {
      "cell_type": "code",
      "metadata": {
        "id": "2o3XJYx-xsx-"
      },
      "source": [
        "from coco_dataset import coco_dataset_download as cocod\n",
        "class_name='person'  #class name example\n",
        "images_count=50       #count of images\n",
        "annotations_path='/content/annotations/instances_train2014.json' #path of coco dataset annotations\n",
        "#call download function\n",
        "cocod.coco_dataset_download(class_name,images_count,annotations_path)"
      ],
      "execution_count": null,
      "outputs": []
    },
    {
      "cell_type": "markdown",
      "metadata": {
        "id": "iGEC5LbmB301"
      },
      "source": [
        "##Example 2:Bus"
      ]
    },
    {
      "cell_type": "code",
      "metadata": {
        "colab": {
          "base_uri": "https://localhost:8080/"
        },
        "id": "xK67IKJxB3FS",
        "outputId": "cbc72dfa-9dd4-47ea-ce0d-c7957c314194"
      },
      "source": [
        "from coco_dataset import coco_dataset_download as cocod\n",
        "class_name='bus'  #class name example\n",
        "images_count=50       #count of images\n",
        "annotations_path='/content/annotations/instances_train2014.json' #path of coco dataset annotations\n",
        "#call download function\n",
        "cocod.coco_dataset_download(class_name,images_count,annotations_path)"
      ],
      "execution_count": null,
      "outputs": [
        {
          "output_type": "stream",
          "text": [
            "loading annotations into memory...\n",
            "Done (t=12.52s)\n",
            "creating index...\n",
            "index created!\n",
            "no.of image: 1\n",
            "no.of image: 2\n",
            "no.of image: 3\n",
            "no.of image: 4\n",
            "no.of image: 5\n",
            "no.of image: 6\n",
            "no.of image: 7\n",
            "no.of image: 8\n",
            "no.of image: 9\n",
            "no.of image: 10\n",
            "no.of image: 11\n",
            "no.of image: 12\n",
            "no.of image: 13\n",
            "no.of image: 14\n",
            "no.of image: 15\n",
            "no.of image: 16\n",
            "no.of image: 17\n",
            "no.of image: 18\n",
            "no.of image: 19\n",
            "no.of image: 20\n",
            "no.of image: 21\n",
            "no.of image: 22\n",
            "no.of image: 23\n",
            "no.of image: 24\n",
            "no.of image: 25\n",
            "no.of image: 26\n",
            "no.of image: 27\n",
            "no.of image: 28\n",
            "no.of image: 29\n",
            "no.of image: 30\n",
            "no.of image: 31\n",
            "no.of image: 32\n",
            "no.of image: 33\n",
            "no.of image: 34\n",
            "no.of image: 35\n",
            "no.of image: 36\n",
            "no.of image: 37\n",
            "no.of image: 38\n",
            "no.of image: 39\n",
            "no.of image: 40\n",
            "no.of image: 41\n",
            "no.of image: 42\n",
            "no.of image: 43\n",
            "no.of image: 44\n",
            "no.of image: 45\n",
            "no.of image: 46\n",
            "no.of image: 47\n",
            "no.of image: 48\n",
            "no.of image: 49\n",
            "no.of image: 50\n",
            "finished images download\n"
          ],
          "name": "stdout"
        }
      ]
    },
    {
      "cell_type": "code",
      "metadata": {
        "id": "Mj_ioWDVH6mA"
      },
      "source": [
        "!rm -rf bus person annotations"
      ],
      "execution_count": null,
      "outputs": []
    },
    {
      "cell_type": "markdown",
      "metadata": {
        "id": "d83TOhXOCE3l"
      },
      "source": [
        "#Finished !!\n",
        "[pypi pakage](https://pypi.org/project/CocoDataset/)\n",
        "\n",
        "[github](https://gist.github.com/falahgs/d91a8a84fdb58ba2eec61f242eb81bc6)"
      ]
    }
  ]
}